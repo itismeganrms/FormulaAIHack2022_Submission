{
 "cells": [
  {
   "cell_type": "code",
   "execution_count": 1,
   "id": "7ac219eb",
   "metadata": {
    "_cell_guid": "b1076dfc-b9ad-4769-8c92-a6c4dae69d19",
    "_uuid": "8f2839f25d086af736a60e9eeb907d3b93b6e0e5",
    "execution": {
     "iopub.execute_input": "2022-02-20T09:52:23.308433Z",
     "iopub.status.busy": "2022-02-20T09:52:23.307070Z",
     "iopub.status.idle": "2022-02-20T09:52:23.322572Z",
     "shell.execute_reply": "2022-02-20T09:52:23.323222Z",
     "shell.execute_reply.started": "2022-02-19T21:47:05.854474Z"
    },
    "papermill": {
     "duration": 0.034063,
     "end_time": "2022-02-20T09:52:23.323523",
     "exception": false,
     "start_time": "2022-02-20T09:52:23.289460",
     "status": "completed"
    },
    "tags": []
   },
   "outputs": [
    {
     "name": "stdout",
     "output_type": "stream",
     "text": [
      "/kaggle/input/formulaaihackathon2022/weather.csv\n",
      "/kaggle/input/formulaaihackathon2022/weather.json\n"
     ]
    }
   ],
   "source": [
    "# This Python 3 environment comes with many helpful analytics libraries installed\n",
    "# It is defined by the kaggle/python Docker image: https://github.com/kaggle/docker-python\n",
    "# For example, here's several helpful packages to load\n",
    "\n",
    "import numpy as np # linear algebra\n",
    "import pandas as pd # data processing, CSV file I/O (e.g. pd.read_csv)\n",
    "\n",
    "# Input data files are available in the read-only \"../input/\" directory\n",
    "# For example, running this (by clicking run or pressing Shift+Enter) will list all files under the input directory\n",
    "\n",
    "import os\n",
    "for dirname, _, filenames in os.walk('/kaggle/input'):\n",
    "    for filename in filenames:\n",
    "        print(os.path.join(dirname, filename))\n",
    "\n",
    "# You can write up to 20GB to the current directory (/kaggle/working/) that gets preserved as output when you create a version using \"Save & Run All\" \n",
    "# You can also write temporary files to /kaggle/temp/, but they won't be saved outside of the current session"
   ]
  },
  {
   "cell_type": "code",
   "execution_count": 2,
   "id": "c808a5de",
   "metadata": {
    "execution": {
     "iopub.execute_input": "2022-02-20T09:52:23.354001Z",
     "iopub.status.busy": "2022-02-20T09:52:23.353305Z",
     "iopub.status.idle": "2022-02-20T09:52:24.423274Z",
     "shell.execute_reply": "2022-02-20T09:52:24.422483Z",
     "shell.execute_reply.started": "2022-02-19T21:47:05.88161Z"
    },
    "papermill": {
     "duration": 1.087111,
     "end_time": "2022-02-20T09:52:24.423452",
     "exception": false,
     "start_time": "2022-02-20T09:52:23.336341",
     "status": "completed"
    },
    "tags": []
   },
   "outputs": [],
   "source": [
    "from sklearn.neural_network import MLPRegressor\n",
    "\n",
    "import warnings\n",
    "warnings.filterwarnings(\"ignore\")"
   ]
  },
  {
   "cell_type": "code",
   "execution_count": 3,
   "id": "ddd2a90b",
   "metadata": {
    "execution": {
     "iopub.execute_input": "2022-02-20T09:52:24.456284Z",
     "iopub.status.busy": "2022-02-20T09:52:24.455411Z",
     "iopub.status.idle": "2022-02-20T09:52:47.324673Z",
     "shell.execute_reply": "2022-02-20T09:52:47.323832Z",
     "shell.execute_reply.started": "2022-02-19T21:47:06.525242Z"
    },
    "papermill": {
     "duration": 22.888389,
     "end_time": "2022-02-20T09:52:47.324855",
     "exception": false,
     "start_time": "2022-02-20T09:52:24.436466",
     "status": "completed"
    },
    "tags": []
   },
   "outputs": [],
   "source": [
    "weather_dataset = pd.read_csv(\"/kaggle/input/formulaaihackathon2022/weather.csv\")"
   ]
  },
  {
   "cell_type": "code",
   "execution_count": 4,
   "id": "df71cd60",
   "metadata": {
    "execution": {
     "iopub.execute_input": "2022-02-20T09:52:47.354148Z",
     "iopub.status.busy": "2022-02-20T09:52:47.353393Z",
     "iopub.status.idle": "2022-02-20T09:52:47.383936Z",
     "shell.execute_reply": "2022-02-20T09:52:47.384565Z",
     "shell.execute_reply.started": "2022-02-19T21:47:26.76308Z"
    },
    "papermill": {
     "duration": 0.047528,
     "end_time": "2022-02-20T09:52:47.384836",
     "exception": false,
     "start_time": "2022-02-20T09:52:47.337308",
     "status": "completed"
    },
    "tags": []
   },
   "outputs": [
    {
     "name": "stdout",
     "output_type": "stream",
     "text": [
      "<class 'pandas.core.frame.DataFrame'>\n",
      "RangeIndex: 3572328 entries, 0 to 3572327\n",
      "Data columns (total 59 columns):\n",
      " #   Column                                          Dtype  \n",
      "---  ------                                          -----  \n",
      " 0   M_PACKET_FORMAT                                 int64  \n",
      " 1   M_GAME_MAJOR_VERSION                            int64  \n",
      " 2   M_GAME_MINOR_VERSION                            int64  \n",
      " 3   M_PACKET_VERSION                                int64  \n",
      " 4   M_PACKET_ID                                     int64  \n",
      " 5   M_SESSION_UID                                   float64\n",
      " 6   M_SESSION_TIME                                  float64\n",
      " 7   M_FRAME_IDENTIFIER                              int64  \n",
      " 8   M_PLAYER_CAR_INDEX                              int64  \n",
      " 9   M_SECONDARY_PLAYER_CAR_INDEX                    int64  \n",
      " 10  M_BRAKING_ASSIST                                int64  \n",
      " 11  M_SESSION_LINK_IDENTIFIER                       int64  \n",
      " 12  M_PIT_RELEASE_ASSIST                            int64  \n",
      " 13  TIMESTAMP                                       float64\n",
      " 14  M_ZONE_START                                    float64\n",
      " 15  M_ZONE_FLAG                                     float64\n",
      " 16  M_PIT_STOP_WINDOW_IDEAL_LAP                     int64  \n",
      " 17  M_TRACK_TEMPERATURE                             int64  \n",
      " 18  M_TRACK_LENGTH                                  int64  \n",
      " 19  M_GAME_PAUSED                                   int64  \n",
      " 20  M_FORECAST_ACCURACY                             int64  \n",
      " 21  GAMEHOST                                        object \n",
      " 22  M_AIR_TEMPERATURE                               int64  \n",
      " 23  M_NUM_WEATHER_FORECAST_SAMPLES                  int64  \n",
      " 24  M_SLI_PRO_NATIVE_SUPPORT                        int64  \n",
      " 25  M_SAFETY_CAR_STATUS                             int64  \n",
      " 26  M_TRACK_ID                                      int64  \n",
      " 27  M_ERSASSIST                                     int64  \n",
      " 28  M_FORMULA                                       int64  \n",
      " 29  M_SEASON_LINK_IDENTIFIER                        int64  \n",
      " 30  M_PIT_ASSIST                                    int64  \n",
      " 31  M_GEARBOX_ASSIST                                int64  \n",
      " 32  M_SESSION_TYPE                                  int64  \n",
      " 33  M_SPECTATOR_CAR_INDEX                           int64  \n",
      " 34  M_PIT_STOP_WINDOW_LATEST_LAP                    int64  \n",
      " 35  M_WEEKEND_LINK_IDENTIFIER                       int64  \n",
      " 36  M_DYNAMIC_RACING_LINE_TYPE                      int64  \n",
      " 37  M_SESSION_TIME_LEFT                             int64  \n",
      " 38  M_SESSION_DURATION                              int64  \n",
      " 39  M_PIT_STOP_REJOIN_POSITION                      int64  \n",
      " 40  M_WEATHER_FORECAST_SAMPLES_M_SESSION_TYPE       float64\n",
      " 41  M_TIME_OFFSET                                   float64\n",
      " 42  M_WEATHER_FORECAST_SAMPLES_M_WEATHER            float64\n",
      " 43  M_WEATHER_FORECAST_SAMPLES_M_TRACK_TEMPERATURE  float64\n",
      " 44  M_TRACK_TEMPERATURE_CHANGE                      float64\n",
      " 45  M_WEATHER_FORECAST_SAMPLES_M_AIR_TEMPERATURE    float64\n",
      " 46  M_AIR_TEMPERATURE_CHANGE                        float64\n",
      " 47  M_RAIN_PERCENTAGE                               float64\n",
      " 48  M_WEATHER                                       int64  \n",
      " 49  M_AI_DIFFICULTY                                 int64  \n",
      " 50  M_PIT_SPEED_LIMIT                               int64  \n",
      " 51  M_NETWORK_GAME                                  float64\n",
      " 52  M_TOTAL_LAPS                                    float64\n",
      " 53  M_STEERING_ASSIST                               float64\n",
      " 54  M_IS_SPECTATING                                 float64\n",
      " 55  M_DYNAMIC_RACING_LINE                           float64\n",
      " 56  M_DRSASSIST                                     float64\n",
      " 57  M_NUM_MARSHAL_ZONES                             float64\n",
      " 58  Unnamed: 58                                     float64\n",
      "dtypes: float64(21), int64(37), object(1)\n",
      "memory usage: 1.6+ GB\n"
     ]
    }
   ],
   "source": [
    "weather_dataset.info()"
   ]
  },
  {
   "cell_type": "code",
   "execution_count": 5,
   "id": "5b30e406",
   "metadata": {
    "execution": {
     "iopub.execute_input": "2022-02-20T09:52:47.415166Z",
     "iopub.status.busy": "2022-02-20T09:52:47.414405Z",
     "iopub.status.idle": "2022-02-20T09:52:47.450929Z",
     "shell.execute_reply": "2022-02-20T09:52:47.451495Z",
     "shell.execute_reply.started": "2022-02-19T21:47:26.783701Z"
    },
    "papermill": {
     "duration": 0.054062,
     "end_time": "2022-02-20T09:52:47.451725",
     "exception": false,
     "start_time": "2022-02-20T09:52:47.397663",
     "status": "completed"
    },
    "tags": []
   },
   "outputs": [
    {
     "data": {
      "text/html": [
       "<div>\n",
       "<style scoped>\n",
       "    .dataframe tbody tr th:only-of-type {\n",
       "        vertical-align: middle;\n",
       "    }\n",
       "\n",
       "    .dataframe tbody tr th {\n",
       "        vertical-align: top;\n",
       "    }\n",
       "\n",
       "    .dataframe thead th {\n",
       "        text-align: right;\n",
       "    }\n",
       "</style>\n",
       "<table border=\"1\" class=\"dataframe\">\n",
       "  <thead>\n",
       "    <tr style=\"text-align: right;\">\n",
       "      <th></th>\n",
       "      <th>M_PACKET_FORMAT</th>\n",
       "      <th>M_GAME_MAJOR_VERSION</th>\n",
       "      <th>M_GAME_MINOR_VERSION</th>\n",
       "      <th>M_PACKET_VERSION</th>\n",
       "      <th>M_PACKET_ID</th>\n",
       "      <th>M_SESSION_UID</th>\n",
       "      <th>M_SESSION_TIME</th>\n",
       "      <th>M_FRAME_IDENTIFIER</th>\n",
       "      <th>M_PLAYER_CAR_INDEX</th>\n",
       "      <th>M_SECONDARY_PLAYER_CAR_INDEX</th>\n",
       "      <th>...</th>\n",
       "      <th>M_AI_DIFFICULTY</th>\n",
       "      <th>M_PIT_SPEED_LIMIT</th>\n",
       "      <th>M_NETWORK_GAME</th>\n",
       "      <th>M_TOTAL_LAPS</th>\n",
       "      <th>M_STEERING_ASSIST</th>\n",
       "      <th>M_IS_SPECTATING</th>\n",
       "      <th>M_DYNAMIC_RACING_LINE</th>\n",
       "      <th>M_DRSASSIST</th>\n",
       "      <th>M_NUM_MARSHAL_ZONES</th>\n",
       "      <th>Unnamed: 58</th>\n",
       "    </tr>\n",
       "  </thead>\n",
       "  <tbody>\n",
       "    <tr>\n",
       "      <th>0</th>\n",
       "      <td>2021</td>\n",
       "      <td>1</td>\n",
       "      <td>14</td>\n",
       "      <td>1</td>\n",
       "      <td>1</td>\n",
       "      <td>1.300210e+19</td>\n",
       "      <td>2803.836</td>\n",
       "      <td>82458</td>\n",
       "      <td>0</td>\n",
       "      <td>255</td>\n",
       "      <td>...</td>\n",
       "      <td>0</td>\n",
       "      <td>80</td>\n",
       "      <td>0.0</td>\n",
       "      <td>200.0</td>\n",
       "      <td>0.0</td>\n",
       "      <td>0.0</td>\n",
       "      <td>0.0</td>\n",
       "      <td>0.0</td>\n",
       "      <td>16.0</td>\n",
       "      <td>NaN</td>\n",
       "    </tr>\n",
       "    <tr>\n",
       "      <th>1</th>\n",
       "      <td>2021</td>\n",
       "      <td>1</td>\n",
       "      <td>14</td>\n",
       "      <td>1</td>\n",
       "      <td>1</td>\n",
       "      <td>1.300210e+19</td>\n",
       "      <td>2803.836</td>\n",
       "      <td>82458</td>\n",
       "      <td>0</td>\n",
       "      <td>255</td>\n",
       "      <td>...</td>\n",
       "      <td>0</td>\n",
       "      <td>80</td>\n",
       "      <td>0.0</td>\n",
       "      <td>200.0</td>\n",
       "      <td>0.0</td>\n",
       "      <td>0.0</td>\n",
       "      <td>0.0</td>\n",
       "      <td>0.0</td>\n",
       "      <td>16.0</td>\n",
       "      <td>NaN</td>\n",
       "    </tr>\n",
       "    <tr>\n",
       "      <th>2</th>\n",
       "      <td>2021</td>\n",
       "      <td>1</td>\n",
       "      <td>14</td>\n",
       "      <td>1</td>\n",
       "      <td>1</td>\n",
       "      <td>1.300210e+19</td>\n",
       "      <td>2803.836</td>\n",
       "      <td>82458</td>\n",
       "      <td>0</td>\n",
       "      <td>255</td>\n",
       "      <td>...</td>\n",
       "      <td>0</td>\n",
       "      <td>80</td>\n",
       "      <td>0.0</td>\n",
       "      <td>200.0</td>\n",
       "      <td>0.0</td>\n",
       "      <td>0.0</td>\n",
       "      <td>0.0</td>\n",
       "      <td>0.0</td>\n",
       "      <td>16.0</td>\n",
       "      <td>NaN</td>\n",
       "    </tr>\n",
       "    <tr>\n",
       "      <th>3</th>\n",
       "      <td>2021</td>\n",
       "      <td>1</td>\n",
       "      <td>14</td>\n",
       "      <td>1</td>\n",
       "      <td>1</td>\n",
       "      <td>1.300210e+19</td>\n",
       "      <td>2803.836</td>\n",
       "      <td>82458</td>\n",
       "      <td>0</td>\n",
       "      <td>255</td>\n",
       "      <td>...</td>\n",
       "      <td>0</td>\n",
       "      <td>80</td>\n",
       "      <td>0.0</td>\n",
       "      <td>200.0</td>\n",
       "      <td>0.0</td>\n",
       "      <td>0.0</td>\n",
       "      <td>0.0</td>\n",
       "      <td>0.0</td>\n",
       "      <td>16.0</td>\n",
       "      <td>NaN</td>\n",
       "    </tr>\n",
       "    <tr>\n",
       "      <th>4</th>\n",
       "      <td>2021</td>\n",
       "      <td>1</td>\n",
       "      <td>14</td>\n",
       "      <td>1</td>\n",
       "      <td>1</td>\n",
       "      <td>1.300210e+19</td>\n",
       "      <td>2803.836</td>\n",
       "      <td>82458</td>\n",
       "      <td>0</td>\n",
       "      <td>255</td>\n",
       "      <td>...</td>\n",
       "      <td>0</td>\n",
       "      <td>80</td>\n",
       "      <td>0.0</td>\n",
       "      <td>200.0</td>\n",
       "      <td>0.0</td>\n",
       "      <td>0.0</td>\n",
       "      <td>0.0</td>\n",
       "      <td>0.0</td>\n",
       "      <td>16.0</td>\n",
       "      <td>NaN</td>\n",
       "    </tr>\n",
       "  </tbody>\n",
       "</table>\n",
       "<p>5 rows × 59 columns</p>\n",
       "</div>"
      ],
      "text/plain": [
       "   M_PACKET_FORMAT  M_GAME_MAJOR_VERSION  M_GAME_MINOR_VERSION  \\\n",
       "0             2021                     1                    14   \n",
       "1             2021                     1                    14   \n",
       "2             2021                     1                    14   \n",
       "3             2021                     1                    14   \n",
       "4             2021                     1                    14   \n",
       "\n",
       "   M_PACKET_VERSION  M_PACKET_ID  M_SESSION_UID  M_SESSION_TIME  \\\n",
       "0                 1            1   1.300210e+19        2803.836   \n",
       "1                 1            1   1.300210e+19        2803.836   \n",
       "2                 1            1   1.300210e+19        2803.836   \n",
       "3                 1            1   1.300210e+19        2803.836   \n",
       "4                 1            1   1.300210e+19        2803.836   \n",
       "\n",
       "   M_FRAME_IDENTIFIER  M_PLAYER_CAR_INDEX  M_SECONDARY_PLAYER_CAR_INDEX  ...  \\\n",
       "0               82458                   0                           255  ...   \n",
       "1               82458                   0                           255  ...   \n",
       "2               82458                   0                           255  ...   \n",
       "3               82458                   0                           255  ...   \n",
       "4               82458                   0                           255  ...   \n",
       "\n",
       "   M_AI_DIFFICULTY  M_PIT_SPEED_LIMIT  M_NETWORK_GAME  M_TOTAL_LAPS  \\\n",
       "0                0                 80             0.0         200.0   \n",
       "1                0                 80             0.0         200.0   \n",
       "2                0                 80             0.0         200.0   \n",
       "3                0                 80             0.0         200.0   \n",
       "4                0                 80             0.0         200.0   \n",
       "\n",
       "   M_STEERING_ASSIST  M_IS_SPECTATING  M_DYNAMIC_RACING_LINE  M_DRSASSIST  \\\n",
       "0                0.0              0.0                    0.0          0.0   \n",
       "1                0.0              0.0                    0.0          0.0   \n",
       "2                0.0              0.0                    0.0          0.0   \n",
       "3                0.0              0.0                    0.0          0.0   \n",
       "4                0.0              0.0                    0.0          0.0   \n",
       "\n",
       "   M_NUM_MARSHAL_ZONES  Unnamed: 58  \n",
       "0                 16.0          NaN  \n",
       "1                 16.0          NaN  \n",
       "2                 16.0          NaN  \n",
       "3                 16.0          NaN  \n",
       "4                 16.0          NaN  \n",
       "\n",
       "[5 rows x 59 columns]"
      ]
     },
     "execution_count": 5,
     "metadata": {},
     "output_type": "execute_result"
    }
   ],
   "source": [
    "weather_dataset.head(5)"
   ]
  },
  {
   "cell_type": "code",
   "execution_count": 6,
   "id": "34f49da0",
   "metadata": {
    "execution": {
     "iopub.execute_input": "2022-02-20T09:52:47.485245Z",
     "iopub.status.busy": "2022-02-20T09:52:47.484466Z",
     "iopub.status.idle": "2022-02-20T09:52:48.116746Z",
     "shell.execute_reply": "2022-02-20T09:52:48.116040Z",
     "shell.execute_reply.started": "2022-02-19T21:47:26.82185Z"
    },
    "papermill": {
     "duration": 0.651277,
     "end_time": "2022-02-20T09:52:48.116910",
     "exception": false,
     "start_time": "2022-02-20T09:52:47.465633",
     "status": "completed"
    },
    "tags": []
   },
   "outputs": [
    {
     "data": {
      "text/plain": [
       "M_PACKET_FORMAT                                         0\n",
       "M_GAME_MAJOR_VERSION                                    0\n",
       "M_GAME_MINOR_VERSION                                    0\n",
       "M_PACKET_VERSION                                        0\n",
       "M_PACKET_ID                                             0\n",
       "M_SESSION_UID                                           0\n",
       "M_SESSION_TIME                                          0\n",
       "M_FRAME_IDENTIFIER                                      0\n",
       "M_PLAYER_CAR_INDEX                                      0\n",
       "M_SECONDARY_PLAYER_CAR_INDEX                            0\n",
       "M_BRAKING_ASSIST                                        0\n",
       "M_SESSION_LINK_IDENTIFIER                               0\n",
       "M_PIT_RELEASE_ASSIST                                    0\n",
       "TIMESTAMP                                               0\n",
       "M_ZONE_START                                      2598054\n",
       "M_ZONE_FLAG                                       2598054\n",
       "M_PIT_STOP_WINDOW_IDEAL_LAP                             0\n",
       "M_TRACK_TEMPERATURE                                     0\n",
       "M_TRACK_LENGTH                                          0\n",
       "M_GAME_PAUSED                                           0\n",
       "M_FORECAST_ACCURACY                                     0\n",
       "GAMEHOST                                           909216\n",
       "M_AIR_TEMPERATURE                                       0\n",
       "M_NUM_WEATHER_FORECAST_SAMPLES                          0\n",
       "M_SLI_PRO_NATIVE_SUPPORT                                0\n",
       "M_SAFETY_CAR_STATUS                                     0\n",
       "M_TRACK_ID                                              0\n",
       "M_ERSASSIST                                             0\n",
       "M_FORMULA                                               0\n",
       "M_SEASON_LINK_IDENTIFIER                                0\n",
       "M_PIT_ASSIST                                            0\n",
       "M_GEARBOX_ASSIST                                        0\n",
       "M_SESSION_TYPE                                          0\n",
       "M_SPECTATOR_CAR_INDEX                                   0\n",
       "M_PIT_STOP_WINDOW_LATEST_LAP                            0\n",
       "M_WEEKEND_LINK_IDENTIFIER                               0\n",
       "M_DYNAMIC_RACING_LINE_TYPE                              0\n",
       "M_SESSION_TIME_LEFT                                     0\n",
       "M_SESSION_DURATION                                      0\n",
       "M_PIT_STOP_REJOIN_POSITION                              0\n",
       "M_WEATHER_FORECAST_SAMPLES_M_SESSION_TYPE          974274\n",
       "M_TIME_OFFSET                                      974274\n",
       "M_WEATHER_FORECAST_SAMPLES_M_WEATHER               974274\n",
       "M_WEATHER_FORECAST_SAMPLES_M_TRACK_TEMPERATURE     974274\n",
       "M_TRACK_TEMPERATURE_CHANGE                         974274\n",
       "M_WEATHER_FORECAST_SAMPLES_M_AIR_TEMPERATURE       974274\n",
       "M_AIR_TEMPERATURE_CHANGE                           974274\n",
       "M_RAIN_PERCENTAGE                                  974274\n",
       "M_WEATHER                                               0\n",
       "M_AI_DIFFICULTY                                         0\n",
       "M_PIT_SPEED_LIMIT                                       0\n",
       "M_NETWORK_GAME                                          1\n",
       "M_TOTAL_LAPS                                            1\n",
       "M_STEERING_ASSIST                                       1\n",
       "M_IS_SPECTATING                                         1\n",
       "M_DYNAMIC_RACING_LINE                                   1\n",
       "M_DRSASSIST                                             1\n",
       "M_NUM_MARSHAL_ZONES                                     1\n",
       "Unnamed: 58                                       3572328\n",
       "dtype: int64"
      ]
     },
     "execution_count": 6,
     "metadata": {},
     "output_type": "execute_result"
    }
   ],
   "source": [
    "weather_dataset.isnull().sum()"
   ]
  },
  {
   "cell_type": "code",
   "execution_count": 7,
   "id": "a20f8d0e",
   "metadata": {
    "execution": {
     "iopub.execute_input": "2022-02-20T09:52:48.149128Z",
     "iopub.status.busy": "2022-02-20T09:52:48.148383Z",
     "iopub.status.idle": "2022-02-20T09:52:48.154162Z",
     "shell.execute_reply": "2022-02-20T09:52:48.154804Z",
     "shell.execute_reply.started": "2022-02-19T21:47:27.467189Z"
    },
    "papermill": {
     "duration": 0.023968,
     "end_time": "2022-02-20T09:52:48.155006",
     "exception": false,
     "start_time": "2022-02-20T09:52:48.131038",
     "status": "completed"
    },
    "tags": []
   },
   "outputs": [
    {
     "data": {
      "text/plain": [
       "(3572328, 59)"
      ]
     },
     "execution_count": 7,
     "metadata": {},
     "output_type": "execute_result"
    }
   ],
   "source": [
    "weather_dataset.shape"
   ]
  },
  {
   "cell_type": "code",
   "execution_count": 8,
   "id": "0d8bf421",
   "metadata": {
    "execution": {
     "iopub.execute_input": "2022-02-20T09:52:48.186357Z",
     "iopub.status.busy": "2022-02-20T09:52:48.185720Z",
     "iopub.status.idle": "2022-02-20T09:52:48.229780Z",
     "shell.execute_reply": "2022-02-20T09:52:48.230663Z",
     "shell.execute_reply.started": "2022-02-19T21:47:27.476849Z"
    },
    "papermill": {
     "duration": 0.061957,
     "end_time": "2022-02-20T09:52:48.230894",
     "exception": false,
     "start_time": "2022-02-20T09:52:48.168937",
     "status": "completed"
    },
    "tags": []
   },
   "outputs": [
    {
     "name": "stdout",
     "output_type": "stream",
     "text": [
      "Number of unique race sessions in the dataset is 153\n"
     ]
    }
   ],
   "source": [
    "# checking the count of unique session IDs\n",
    "# https://github.com/oracle-devrel/formula-ai-2022-hackathon/blob/main/challenges/challenge1.md -- mentions that \" You can explore the total \n",
    "# number of different sessions played bycounting the session_uid distinct values.\"\n",
    "\n",
    "print('Number of unique race sessions in the dataset is',weather_dataset.M_SESSION_UID.nunique()) "
   ]
  },
  {
   "cell_type": "code",
   "execution_count": 9,
   "id": "e8bfba81",
   "metadata": {
    "execution": {
     "iopub.execute_input": "2022-02-20T09:52:48.268512Z",
     "iopub.status.busy": "2022-02-20T09:52:48.267838Z",
     "iopub.status.idle": "2022-02-20T09:52:52.600976Z",
     "shell.execute_reply": "2022-02-20T09:52:52.601503Z",
     "shell.execute_reply.started": "2022-02-19T21:47:27.530426Z"
    },
    "papermill": {
     "duration": 4.354352,
     "end_time": "2022-02-20T09:52:52.601710",
     "exception": false,
     "start_time": "2022-02-20T09:52:48.247358",
     "status": "completed"
    },
    "tags": []
   },
   "outputs": [
    {
     "data": {
      "text/plain": [
       "2057230"
      ]
     },
     "execution_count": 9,
     "metadata": {},
     "output_type": "execute_result"
    }
   ],
   "source": [
    "weather_dataset.duplicated().sum() # checking the duplicates"
   ]
  },
  {
   "cell_type": "code",
   "execution_count": 10,
   "id": "a9b8a287",
   "metadata": {
    "execution": {
     "iopub.execute_input": "2022-02-20T09:52:52.635746Z",
     "iopub.status.busy": "2022-02-20T09:52:52.634800Z",
     "iopub.status.idle": "2022-02-20T09:52:57.230233Z",
     "shell.execute_reply": "2022-02-20T09:52:57.229630Z",
     "shell.execute_reply.started": "2022-02-19T21:47:31.500554Z"
    },
    "papermill": {
     "duration": 4.613657,
     "end_time": "2022-02-20T09:52:57.230409",
     "exception": false,
     "start_time": "2022-02-20T09:52:52.616752",
     "status": "completed"
    },
    "tags": []
   },
   "outputs": [
    {
     "data": {
      "text/plain": [
       "(1515098, 59)"
      ]
     },
     "execution_count": 10,
     "metadata": {},
     "output_type": "execute_result"
    }
   ],
   "source": [
    "weather_dataset.drop_duplicates(inplace=True) # removing the duplicates\n",
    "\n",
    "weather_dataset.shape"
   ]
  }
 ],
 "metadata": {
  "kernelspec": {
   "display_name": "Python 3",
   "language": "python",
   "name": "python3"
  },
  "language_info": {
   "codemirror_mode": {
    "name": "ipython",
    "version": 3
   },
   "file_extension": ".py",
   "mimetype": "text/x-python",
   "name": "python",
   "nbconvert_exporter": "python",
   "pygments_lexer": "ipython3",
   "version": "3.7.12"
  },
  "papermill": {
   "default_parameters": {},
   "duration": 45.129731,
   "end_time": "2022-02-20T09:52:58.259850",
   "environment_variables": {},
   "exception": null,
   "input_path": "__notebook__.ipynb",
   "output_path": "__notebook__.ipynb",
   "parameters": {},
   "start_time": "2022-02-20T09:52:13.130119",
   "version": "2.3.3"
  }
 },
 "nbformat": 4,
 "nbformat_minor": 5
}
